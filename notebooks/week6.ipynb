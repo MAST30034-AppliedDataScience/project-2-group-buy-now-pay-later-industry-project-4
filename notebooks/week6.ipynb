{
 "cells": [
  {
   "cell_type": "markdown",
   "metadata": {},
   "source": [
    "## Sprint 1: Preliminary Analysis and ETL Pipeline Construction \n",
    "\n",
    "### Step 1: Clone the template repository which contains the datasets."
   ]
  },
  {
   "cell_type": "code",
   "execution_count": 6,
   "metadata": {},
   "outputs": [],
   "source": [
    "from pyspark.sql import SparkSession, functions as F\n",
    "\n",
    "# Create a spark session (which will run spark jobs)\n",
    "spark = (\n",
    "    SparkSession.builder.appName(\"Project 2\")\n",
    "    .config(\"spark.sql.repl.eagerEval.enabled\", True)\n",
    "    .config(\"spark.sql.parquet.cacheMetadata\", \"true\")\n",
    "    .config(\"spark.sql.session.timeZone\", \"Etc/UTC\")\n",
    "    .config('spark.driver.memory', '4g')\n",
    "    .config('spark.executor.memory', '4g')\n",
    "    .getOrCreate()\n",
    ")"
   ]
  },
  {
   "cell_type": "code",
   "execution_count": 7,
   "metadata": {},
   "outputs": [
    {
     "name": "stdout",
     "output_type": "stream",
     "text": [
      "null value count merchant-- merchant_abn         0\n",
      "order_datetime       0\n",
      "fraud_probability    0\n",
      "dtype: int64\n",
      "null value count consumer-- name           0\n",
      "address        0\n",
      "state          0\n",
      "postcode       0\n",
      "gender         0\n",
      "consumer_id    0\n",
      "dtype: int64\n",
      "null value count consumerf-- user_id              0\n",
      "order_datetime       0\n",
      "fraud_probability    0\n",
      "dtype: int64\n"
     ]
    }
   ],
   "source": [
    "import pandas as pd\n",
    "pd.set_option('display.max_rows', 1000)\n",
    "import matplotlib.pyplot as plt\n",
    "import seaborn as sns\n",
    "from pyspark.sql import SparkSession\n",
    "from pyspark import SparkContext, SparkConf\n",
    "from pandas import date_range\n",
    "import glob\n",
    "sc_conf = SparkConf().setAppName('test')\n",
    "\n",
    "merchant_data = pd.read_csv('../../project-2-group-buy-now-pay-later-industry-project-4/data/tables/merchant_fraud_probability.csv')\n",
    "consumerf_data = pd.read_csv('../../project-2-group-buy-now-pay-later-industry-project-4/data/tables/consumer_fraud_probability.csv')\n",
    "consumer_data = pd.read_csv('../../project-2-group-buy-now-pay-later-industry-project-4/data/tables/tbl_consumer.csv',sep = '|')\n",
    "user_consumer = spark.read.parquet('../../project-2-group-buy-now-pay-later-industry-project-4/data/tables/consumer_user_details.parquet')\n",
    "user_consumer = user_consumer.toPandas()\n",
    "\n",
    "print('null value count merchant--',merchant_data.isnull().sum())\n",
    "print('null value count consumer--',consumer_data.isnull().sum())\n",
    "print('null value count consumerf--',consumerf_data.isnull().sum())\n",
    "# These three datasets have no null value"
   ]
  },
  {
   "cell_type": "markdown",
   "metadata": {},
   "source": [
    "### Step 2: Use Pyspark to get transactions data and generate the ETL"
   ]
  },
  {
   "cell_type": "code",
   "execution_count": 8,
   "metadata": {},
   "outputs": [],
   "source": [
    "def etl_pipeline(merchant_data, consumer_data,consumerf_data,ifsave=False):\n",
    "\n",
    "    # # Merging data sets\n",
    "    merchant_data['order_datetime']= pd.to_datetime(merchant_data['order_datetime'])\n",
    "    consumerf_data['order_datetime']= pd.to_datetime(consumerf_data['order_datetime'])\n",
    "    dftmp = pd.merge(merchant_data,consumerf_data,on = 'order_datetime')\n",
    "    dftmp = pd.merge(dftmp,user_consumer,on = 'user_id')\n",
    "    df = pd.merge(dftmp,consumer_data,on = 'consumer_id')\n",
    "    df = df.sort_values(by='order_datetime')\n",
    "    # A total of 32009 data from 2021-03-25 to 2022-02-27\n",
    "\n",
    "    df_final = pd.DataFrame()\n",
    "    date_list = date_range(start='2021-03-25', end='2022-02-27')\n",
    "    for d in date_list:\n",
    "        file = glob.glob(\"../../project-2-group-buy-now-pay-later-industry-project-4/data/tables/transactions/order_datetime=\"+str(d)[:10]+'/*.parquet')\n",
    "        if len(file)==1:\n",
    "            df_parquet = spark.read.parquet(file[0])\n",
    "            df_parquet = df_parquet.toPandas()\n",
    "            df_parquet['order_datetime'] = str(d)[:10]\n",
    "            df_parquet['order_datetime'] = pd.to_datetime(df_parquet['order_datetime'])\n",
    "            dftmp = pd.merge(df,df_parquet,on = ['order_datetime','user_id','merchant_abn'],how = 'inner')\n",
    "            if len(dftmp)>0:\n",
    "                df_final = pd.concat([df_final,dftmp])\n",
    "    if ifsave:\n",
    "        df.to_csv('../../project-2-group-buy-now-pay-later-industry-project-4/data/tables/df.csv')\n",
    "        df_final.to_csv('../../project-2-group-buy-now-pay-later-industry-project-4/data/tables/dffinal.csv')\n",
    "    return df,df_final\n"
   ]
  },
  {
   "cell_type": "markdown",
   "metadata": {},
   "source": [
    "### Step 3:  preliminary analysis"
   ]
  },
  {
   "cell_type": "code",
   "execution_count": 9,
   "metadata": {},
   "outputs": [
    {
     "name": "stdout",
     "output_type": "stream",
     "text": [
      "       merchant_abn  fraud_probability\n",
      "count  1.140000e+02         114.000000\n",
      "mean   5.440738e+10          40.419335\n",
      "std    3.172677e+10          17.187745\n",
      "min    1.114906e+10          18.210891\n",
      "25%    2.173151e+10          28.992765\n",
      "50%    4.942497e+10          32.692032\n",
      "75%    8.491712e+10          48.395260\n",
      "max    9.998904e+10          94.134700\n",
      "            postcode   consumer_id\n",
      "count  499999.000000  4.999990e+05\n",
      "mean     4037.085418  7.508952e+05\n",
      "std      1791.076639  4.331004e+05\n",
      "min       200.000000  4.000000e+00\n",
      "25%      2619.000000  3.760505e+05\n",
      "50%      3807.000000  7.516370e+05\n",
      "75%      5350.000000  1.126366e+06\n",
      "max      9999.000000  1.499995e+06\n",
      "            user_id  fraud_probability\n",
      "count  34864.000000       34864.000000\n",
      "mean   12057.003930          15.120091\n",
      "std     6963.195641           9.946085\n",
      "min        1.000000           8.287144\n",
      "25%     6059.750000           9.634437\n",
      "50%    12067.500000          11.735624\n",
      "75%    18091.250000          16.216158\n",
      "max    24081.000000          99.247380\n"
     ]
    },
    {
     "data": {
      "image/png": "[encoded data removed]",
      "text/plain": [
       "<Figure size 640x480 with 1 Axes>"
      ]
     },
     "metadata": {},
     "output_type": "display_data"
    },
    {
     "data": {
      "image/png": "[encoded data removed]",
      "text/plain": [
       "<Figure size 640x480 with 1 Axes>"
      ]
     },
     "metadata": {},
     "output_type": "display_data"
    }
   ],
   "source": [
    "# View statistical information about the dataset. \n",
    "print(merchant_data.describe())\n",
    "print(consumer_data.describe())\n",
    "print(consumerf_data.describe())\n",
    "\n",
    "# Data Distribution Visualisation\n",
    "sns.histplot(merchant_data['fraud_probability'], bins=20)\n",
    "plt.title('merchant fraud_probability Distribution')\n",
    "plt.show()\n",
    "\n",
    "sns.histplot(consumerf_data['fraud_probability'], bins=20)\n",
    "plt.title('consumer fraud_probability Distribution')\n",
    "plt.show()\n",
    "\n"
   ]
  },
  {
   "cell_type": "markdown",
   "metadata": {},
   "source": [
    "### Step4: External dataset"
   ]
  },
  {
   "cell_type": "code",
   "execution_count": 10,
   "metadata": {},
   "outputs": [
    {
     "data": {
      "text/html": [
       "<div>\n",
       "<style scoped>\n",
       "    .dataframe tbody tr th:only-of-type {\n",
       "        vertical-align: middle;\n",
       "    }\n",
       "\n",
       "    .dataframe tbody tr th {\n",
       "        vertical-align: top;\n",
       "    }\n",
       "\n",
       "    .dataframe thead th {\n",
       "        text-align: right;\n",
       "    }\n",
       "</style>\n",
       "<table border=\"1\" class=\"dataframe\">\n",
       "  <thead>\n",
       "    <tr style=\"text-align: right;\">\n",
       "      <th></th>\n",
       "      <th>Time Period</th>\n",
       "      <th>Time Period.1</th>\n",
       "      <th>Feb 2021</th>\n",
       "      <th>Mar 2021</th>\n",
       "      <th>Apr 2021</th>\n",
       "      <th>May 2021</th>\n",
       "      <th>Jun 2021</th>\n",
       "      <th>Jul 2021</th>\n",
       "      <th>Aug 2021</th>\n",
       "      <th>Sep 2021</th>\n",
       "      <th>...</th>\n",
       "      <th>Jun 2022</th>\n",
       "      <th>Jul 2022</th>\n",
       "      <th>Aug 2022</th>\n",
       "      <th>Sep 2022</th>\n",
       "      <th>Oct 2022</th>\n",
       "      <th>Nov 2022</th>\n",
       "      <th>Dec 2022</th>\n",
       "      <th>Jan 2023</th>\n",
       "      <th>Feb 2023</th>\n",
       "      <th>Unnamed: 27</th>\n",
       "    </tr>\n",
       "  </thead>\n",
       "  <tbody>\n",
       "    <tr>\n",
       "      <th>0</th>\n",
       "      <td>All groups CPI</td>\n",
       "      <td>NaN</td>\n",
       "      <td>105.3</td>\n",
       "      <td>105.6</td>\n",
       "      <td>106.1</td>\n",
       "      <td>106.2</td>\n",
       "      <td>106.4</td>\n",
       "      <td>106.7</td>\n",
       "      <td>107.0</td>\n",
       "      <td>107.3</td>\n",
       "      <td>...</td>\n",
       "      <td>113.6</td>\n",
       "      <td>114.4</td>\n",
       "      <td>114.7</td>\n",
       "      <td>115.0</td>\n",
       "      <td>115.4</td>\n",
       "      <td>116.4</td>\n",
       "      <td>118.2</td>\n",
       "      <td>117.8</td>\n",
       "      <td>118.0</td>\n",
       "      <td>NaN</td>\n",
       "    </tr>\n",
       "    <tr>\n",
       "      <th>1</th>\n",
       "      <td>·  Health</td>\n",
       "      <td>NaN</td>\n",
       "      <td>108.9</td>\n",
       "      <td>111.1</td>\n",
       "      <td>113.4</td>\n",
       "      <td>113.4</td>\n",
       "      <td>112.8</td>\n",
       "      <td>112.8</td>\n",
       "      <td>112.8</td>\n",
       "      <td>112.7</td>\n",
       "      <td>...</td>\n",
       "      <td>115.5</td>\n",
       "      <td>115.5</td>\n",
       "      <td>115.5</td>\n",
       "      <td>115.8</td>\n",
       "      <td>115.8</td>\n",
       "      <td>117.0</td>\n",
       "      <td>117.2</td>\n",
       "      <td>118.1</td>\n",
       "      <td>118.1</td>\n",
       "      <td>NaN</td>\n",
       "    </tr>\n",
       "  </tbody>\n",
       "</table>\n",
       "<p>2 rows × 28 columns</p>\n",
       "</div>"
      ],
      "text/plain": [
       "      Time Period  Time Period.1  Feb 2021  Mar 2021  Apr 2021  May 2021  \\\n",
       "0  All groups CPI            NaN     105.3     105.6     106.1     106.2   \n",
       "1       ·  Health            NaN     108.9     111.1     113.4     113.4   \n",
       "\n",
       "   Jun 2021  Jul 2021  Aug 2021  Sep 2021  ...  Jun 2022  Jul 2022  Aug 2022  \\\n",
       "0     106.4     106.7     107.0     107.3  ...     113.6     114.4     114.7   \n",
       "1     112.8     112.8     112.8     112.7  ...     115.5     115.5     115.5   \n",
       "\n",
       "   Sep 2022  Oct 2022  Nov 2022  Dec 2022  Jan 2023  Feb 2023  Unnamed: 27  \n",
       "0     115.0     115.4     116.4     118.2     117.8     118.0          NaN  \n",
       "1     115.8     115.8     117.0     117.2     118.1     118.1          NaN  \n",
       "\n",
       "[2 rows x 28 columns]"
      ]
     },
     "execution_count": 10,
     "metadata": {},
     "output_type": "execute_result"
    }
   ],
   "source": [
    "# External data set, consumer index (monthly)\n",
    "external_df = pd.read_excel('../../project-2-group-buy-now-pay-later-industry-project-4/data/tables/ABS_CPI_M_1+3...50.M.xlsx')\n",
    "external_df.head(2)\n",
    "\n"
   ]
  }
 ],
 "metadata": {
  "kernelspec": {
   "display_name": "myenv",
   "language": "python",
   "name": "python3"
  },
  "language_info": {
   "codemirror_mode": {
    "name": "ipython",
    "version": 3
   },
   "file_extension": ".py",
   "mimetype": "text/x-python",
   "name": "python",
   "nbconvert_exporter": "python",
   "pygments_lexer": "ipython3",
   "version": "3.12.3"
  }
 },
 "nbformat": 4,
 "nbformat_minor": 2
}
