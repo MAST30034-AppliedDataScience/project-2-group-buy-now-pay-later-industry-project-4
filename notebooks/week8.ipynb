{
 "cells": [
  {
   "cell_type": "markdown",
   "metadata": {},
   "source": [
    "## Sprint 3: Curate a dataset and simple models\n",
    "\n",
    "### Step 1: Add fraud column"
   ]
  },
  {
   "cell_type": "code",
   "execution_count": 1,
   "metadata": {},
   "outputs": [],
   "source": [
    "import pandas as pd\n",
    "df = pd.read_csv('../../project-2-group-buy-now-pay-later-industry-project-4/data/tables/df_new_out.csv')\n",
    "tmp1 = df['fraud_probability_x']>50 \n",
    "tmp2 = df['fraud_probability_y']>50\n",
    "df['is_fraud'] = tmp1 | tmp2\n",
    "df.to_csv('../../project-2-group-buy-now-pay-later-industry-project-4/data/tables/df_new_week8.csv')"
   ]
  },
  {
   "cell_type": "code",
   "execution_count": 2,
   "metadata": {},
   "outputs": [
    {
     "data": {
      "text/html": [
       "<div>\n",
       "<style scoped>\n",
       "    .dataframe tbody tr th:only-of-type {\n",
       "        vertical-align: middle;\n",
       "    }\n",
       "\n",
       "    .dataframe tbody tr th {\n",
       "        vertical-align: top;\n",
       "    }\n",
       "\n",
       "    .dataframe thead th {\n",
       "        text-align: right;\n",
       "    }\n",
       "</style>\n",
       "<table border=\"1\" class=\"dataframe\">\n",
       "  <thead>\n",
       "    <tr style=\"text-align: right;\">\n",
       "      <th></th>\n",
       "      <th>Unnamed: 0.1</th>\n",
       "      <th>Unnamed: 0</th>\n",
       "      <th>order_datetime</th>\n",
       "      <th>user_id</th>\n",
       "      <th>merchant_abn</th>\n",
       "      <th>dollar_value</th>\n",
       "      <th>fraud_probability_x</th>\n",
       "      <th>fraud_probability_y</th>\n",
       "      <th>consumer_id</th>\n",
       "      <th>name</th>\n",
       "      <th>address</th>\n",
       "      <th>state</th>\n",
       "      <th>postcode</th>\n",
       "      <th>gender</th>\n",
       "      <th>year</th>\n",
       "      <th>month</th>\n",
       "      <th>cpi</th>\n",
       "      <th>is_fraud</th>\n",
       "    </tr>\n",
       "  </thead>\n",
       "  <tbody>\n",
       "    <tr>\n",
       "      <th>0</th>\n",
       "      <td>489</td>\n",
       "      <td>489</td>\n",
       "      <td>2021-09-02</td>\n",
       "      <td>260</td>\n",
       "      <td>90918180829</td>\n",
       "      <td>6708.812285</td>\n",
       "      <td>43.325517</td>\n",
       "      <td>11.181975</td>\n",
       "      <td>74257</td>\n",
       "      <td>Donald Alvarado</td>\n",
       "      <td>2982 Vickie Cliff</td>\n",
       "      <td>NSW</td>\n",
       "      <td>2869</td>\n",
       "      <td>Male</td>\n",
       "      <td>2021</td>\n",
       "      <td>9</td>\n",
       "      <td>107.3</td>\n",
       "      <td>False</td>\n",
       "    </tr>\n",
       "    <tr>\n",
       "      <th>1</th>\n",
       "      <td>490</td>\n",
       "      <td>490</td>\n",
       "      <td>2021-09-02</td>\n",
       "      <td>9653</td>\n",
       "      <td>90918180829</td>\n",
       "      <td>3542.290166</td>\n",
       "      <td>43.325517</td>\n",
       "      <td>9.146543</td>\n",
       "      <td>837975</td>\n",
       "      <td>Robert Parsons</td>\n",
       "      <td>4873 Hutchinson Stream</td>\n",
       "      <td>SA</td>\n",
       "      <td>5013</td>\n",
       "      <td>Male</td>\n",
       "      <td>2021</td>\n",
       "      <td>9</td>\n",
       "      <td>107.3</td>\n",
       "      <td>False</td>\n",
       "    </tr>\n",
       "  </tbody>\n",
       "</table>\n",
       "</div>"
      ],
      "text/plain": [
       "   Unnamed: 0.1  Unnamed: 0 order_datetime  user_id  merchant_abn  \\\n",
       "0           489         489     2021-09-02      260   90918180829   \n",
       "1           490         490     2021-09-02     9653   90918180829   \n",
       "\n",
       "   dollar_value  fraud_probability_x  fraud_probability_y  consumer_id  \\\n",
       "0   6708.812285            43.325517            11.181975        74257   \n",
       "1   3542.290166            43.325517             9.146543       837975   \n",
       "\n",
       "              name                 address state  postcode gender  year  \\\n",
       "0  Donald Alvarado       2982 Vickie Cliff   NSW      2869   Male  2021   \n",
       "1   Robert Parsons  4873 Hutchinson Stream    SA      5013   Male  2021   \n",
       "\n",
       "   month    cpi  is_fraud  \n",
       "0      9  107.3     False  \n",
       "1      9  107.3     False  "
      ]
     },
     "execution_count": 2,
     "metadata": {},
     "output_type": "execute_result"
    }
   ],
   "source": [
    "df.head(2)"
   ]
  },
  {
   "cell_type": "markdown",
   "metadata": {},
   "source": [
    "### A delta file of transactions to be treated as fraud is available. It is up to your group to remove these transactions or add a new field denoting fraud i.e an is fraud boolean field.\n",
    "\n",
    "Our group decide to add fraud column according to merchant fraud probability or consumer fraud probability is greater than 0.5"
   ]
  },
  {
   "cell_type": "markdown",
   "metadata": {},
   "source": [
    "### step2: Build a simple logistic model to predict whether fraud"
   ]
  },
  {
   "cell_type": "code",
   "execution_count": 3,
   "metadata": {},
   "outputs": [
    {
     "name": "stdout",
     "output_type": "stream",
     "text": [
      "Coef: [[-3.51350604e-05 -6.36274345e-02 -3.21376804e-02  1.15219159e+00\n",
      "  -1.24943511e-02 -3.17147649e-02 -9.44915870e-02 -5.21654568e-02\n",
      "   3.60436271e-01 -3.05849047e-01 -1.52053102e-01  2.88264556e-01\n",
      "   2.87342412e-01 -1.18862243e-01 -1.68547651e-01]]\n",
      "intercept [-6.80054138e-05]\n"
     ]
    },
    {
     "name": "stderr",
     "output_type": "stream",
     "text": [
      "/tmp/ipykernel_8301/3854025938.py:12: SettingWithCopyWarning: \n",
      "A value is trying to be set on a copy of a slice from a DataFrame.\n",
      "Try using .loc[row_indexer,col_indexer] = value instead\n",
      "\n",
      "See the caveats in the documentation: https://pandas.pydata.org/pandas-docs/stable/user_guide/indexing.html#returning-a-view-versus-a-copy\n",
      "  X[name] = list(X_transformed[name])\n",
      "/tmp/ipykernel_8301/3854025938.py:12: SettingWithCopyWarning: \n",
      "A value is trying to be set on a copy of a slice from a DataFrame.\n",
      "Try using .loc[row_indexer,col_indexer] = value instead\n",
      "\n",
      "See the caveats in the documentation: https://pandas.pydata.org/pandas-docs/stable/user_guide/indexing.html#returning-a-view-versus-a-copy\n",
      "  X[name] = list(X_transformed[name])\n",
      "/tmp/ipykernel_8301/3854025938.py:12: SettingWithCopyWarning: \n",
      "A value is trying to be set on a copy of a slice from a DataFrame.\n",
      "Try using .loc[row_indexer,col_indexer] = value instead\n",
      "\n",
      "See the caveats in the documentation: https://pandas.pydata.org/pandas-docs/stable/user_guide/indexing.html#returning-a-view-versus-a-copy\n",
      "  X[name] = list(X_transformed[name])\n",
      "/tmp/ipykernel_8301/3854025938.py:12: SettingWithCopyWarning: \n",
      "A value is trying to be set on a copy of a slice from a DataFrame.\n",
      "Try using .loc[row_indexer,col_indexer] = value instead\n",
      "\n",
      "See the caveats in the documentation: https://pandas.pydata.org/pandas-docs/stable/user_guide/indexing.html#returning-a-view-versus-a-copy\n",
      "  X[name] = list(X_transformed[name])\n",
      "/tmp/ipykernel_8301/3854025938.py:12: SettingWithCopyWarning: \n",
      "A value is trying to be set on a copy of a slice from a DataFrame.\n",
      "Try using .loc[row_indexer,col_indexer] = value instead\n",
      "\n",
      "See the caveats in the documentation: https://pandas.pydata.org/pandas-docs/stable/user_guide/indexing.html#returning-a-view-versus-a-copy\n",
      "  X[name] = list(X_transformed[name])\n",
      "/tmp/ipykernel_8301/3854025938.py:12: SettingWithCopyWarning: \n",
      "A value is trying to be set on a copy of a slice from a DataFrame.\n",
      "Try using .loc[row_indexer,col_indexer] = value instead\n",
      "\n",
      "See the caveats in the documentation: https://pandas.pydata.org/pandas-docs/stable/user_guide/indexing.html#returning-a-view-versus-a-copy\n",
      "  X[name] = list(X_transformed[name])\n",
      "/tmp/ipykernel_8301/3854025938.py:12: SettingWithCopyWarning: \n",
      "A value is trying to be set on a copy of a slice from a DataFrame.\n",
      "Try using .loc[row_indexer,col_indexer] = value instead\n",
      "\n",
      "See the caveats in the documentation: https://pandas.pydata.org/pandas-docs/stable/user_guide/indexing.html#returning-a-view-versus-a-copy\n",
      "  X[name] = list(X_transformed[name])\n",
      "/tmp/ipykernel_8301/3854025938.py:12: SettingWithCopyWarning: \n",
      "A value is trying to be set on a copy of a slice from a DataFrame.\n",
      "Try using .loc[row_indexer,col_indexer] = value instead\n",
      "\n",
      "See the caveats in the documentation: https://pandas.pydata.org/pandas-docs/stable/user_guide/indexing.html#returning-a-view-versus-a-copy\n",
      "  X[name] = list(X_transformed[name])\n",
      "/tmp/ipykernel_8301/3854025938.py:12: SettingWithCopyWarning: \n",
      "A value is trying to be set on a copy of a slice from a DataFrame.\n",
      "Try using .loc[row_indexer,col_indexer] = value instead\n",
      "\n",
      "See the caveats in the documentation: https://pandas.pydata.org/pandas-docs/stable/user_guide/indexing.html#returning-a-view-versus-a-copy\n",
      "  X[name] = list(X_transformed[name])\n",
      "/tmp/ipykernel_8301/3854025938.py:12: SettingWithCopyWarning: \n",
      "A value is trying to be set on a copy of a slice from a DataFrame.\n",
      "Try using .loc[row_indexer,col_indexer] = value instead\n",
      "\n",
      "See the caveats in the documentation: https://pandas.pydata.org/pandas-docs/stable/user_guide/indexing.html#returning-a-view-versus-a-copy\n",
      "  X[name] = list(X_transformed[name])\n",
      "/tmp/ipykernel_8301/3854025938.py:12: SettingWithCopyWarning: \n",
      "A value is trying to be set on a copy of a slice from a DataFrame.\n",
      "Try using .loc[row_indexer,col_indexer] = value instead\n",
      "\n",
      "See the caveats in the documentation: https://pandas.pydata.org/pandas-docs/stable/user_guide/indexing.html#returning-a-view-versus-a-copy\n",
      "  X[name] = list(X_transformed[name])\n",
      "/home/ubuntu24/myenv/lib/python3.12/site-packages/sklearn/linear_model/_logistic.py:469: ConvergenceWarning: lbfgs failed to converge (status=1):\n",
      "STOP: TOTAL NO. of ITERATIONS REACHED LIMIT.\n",
      "\n",
      "Increase the number of iterations (max_iter) or scale the data as shown in:\n",
      "    https://scikit-learn.org/stable/modules/preprocessing.html\n",
      "Please also refer to the documentation for alternative solver options:\n",
      "    https://scikit-learn.org/stable/modules/linear_model.html#logistic-regression\n",
      "  n_iter_i = _check_optimize_result(\n"
     ]
    }
   ],
   "source": [
    "from sklearn.preprocessing import OneHotEncoder\n",
    "from sklearn.model_selection import train_test_split\n",
    "from sklearn.linear_model import LogisticRegression\n",
    "df1 = df.dropna()\n",
    "X = df1[['dollar_value','year','month','cpi']]\n",
    "y = df1['is_fraud']\n",
    "ohe = OneHotEncoder()\n",
    "X_transformed = ohe.fit_transform(df1[['state','gender']]).toarray()\n",
    "#print(ohe.categories_)\n",
    "X_transformed = pd.DataFrame(X_transformed, columns=['ACT', 'NSW', 'NT', 'QLD', 'SA', 'TAS', 'VIC', 'WA','Female', 'Male', 'Undisclosed'])\n",
    "for name in ['ACT', 'NSW', 'NT', 'QLD', 'SA', 'TAS', 'VIC', 'WA','Female', 'Male', 'Undisclosed']:\n",
    "    X[name] = list(X_transformed[name])\n",
    "X_train,X_test,y_train,y_test = train_test_split(X,y,test_size=0.3,random_state=1,stratify=y)\n",
    "lr = LogisticRegression(C=100.0,random_state=1)\n",
    "lr.fit(X_train,y_train)\n",
    "print(\"Coef:\",lr.coef_)\n",
    "print(\"intercept\",lr.intercept_)\n"
   ]
  },
  {
   "cell_type": "markdown",
   "metadata": {},
   "source": [
    "# result of logistic regression \n",
    "\n",
    "Positive coefficients indicate that the model is more likely to predict fraud when the value of the feature increases \n",
    "\n",
    "Negative coefficients indicate that the model is more likely to predict non-fraud when the value of the feature increases"
   ]
  },
  {
   "cell_type": "code",
   "execution_count": 4,
   "metadata": {},
   "outputs": [
    {
     "name": "stdout",
     "output_type": "stream",
     "text": [
      "confusion matrix ：\n",
      "[[1355    0]\n",
      " [  10    0]]\n"
     ]
    }
   ],
   "source": [
    "from sklearn.metrics import confusion_matrix\n",
    "y_pred = lr.predict(X_test)\n",
    "conf_matrix = confusion_matrix(y_test, y_pred)\n",
    "print(\"confusion matrix ：\")\n",
    "print(conf_matrix)"
   ]
  }
 ],
 "metadata": {
  "kernelspec": {
   "display_name": "myenv",
   "language": "python",
   "name": "python3"
  },
  "language_info": {
   "codemirror_mode": {
    "name": "ipython",
    "version": 3
   },
   "file_extension": ".py",
   "mimetype": "text/x-python",
   "name": "python",
   "nbconvert_exporter": "python",
   "pygments_lexer": "ipython3",
   "version": "3.12.3"
  }
 },
 "nbformat": 4,
 "nbformat_minor": 2
}
